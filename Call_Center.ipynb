{
 "cells": [
  {
   "cell_type": "markdown",
   "id": "b20b2190",
   "metadata": {},
   "source": [
    "## Mukul Jangid 22BCON1522\n",
    "## Project Title:\n",
    "\n",
    "\"Call Center Operations Optimization: A\n",
    "Simulation-Based Approach to Staffing, Cost,\n",
    "and Customer Experience\"\n"
   ]
  },
  {
   "cell_type": "markdown",
   "id": "629840bc",
   "metadata": {},
   "source": [
    "### Learning Outcomes:\n",
    "\n",
    "By completing this project, students will be able to:\n"
   ]
  },
  {
   "cell_type": "markdown",
   "id": "b8623def",
   "metadata": {},
   "source": [
    "### 1. Understand Queueing Theory Basics\n",
    "- Model real-life service systems using M/M/1 and M/M/s queueing frameworks.\n",
    "- Interpret key metrics such as utilization (ρ), average wait time, and system size."
   ]
  },
  {
   "cell_type": "markdown",
   "id": "60dd02d6",
   "metadata": {},
   "source": [
    "### 2. Perform Event-Based Simulations\n",
    "-  Simulate customer arrival and service processes using Poisson and Exponential\n",
    "distributions.\n",
    "-  Track individual customer wait times and queue lengths throughout an 8-hour shift.\n"
   ]
  },
  {
   "cell_type": "markdown",
   "id": "b53ad3b5",
   "metadata": {},
   "source": [
    "### 3. Analyze Service Performance Metrics\n",
    "- Calculate and visualize:\n",
    "    - Mean wait times\n",
    "    - 95th percentile wait times\n",
    "    - Abandonment rates"
   ]
  },
  {
   "cell_type": "markdown",
   "id": "6905b5ce",
   "metadata": {},
   "source": [
    "### 4. Compare Simulated vs. Analytical Results \n",
    "- Derive analytical performance estimates using classic M/M/1 formulas. \n",
    "- Validate or critique assumptions by comparing them to simulated outcomes."
   ]
  },
  {
   "cell_type": "markdown",
   "id": "3930e021",
   "metadata": {},
   "source": [
    "### 5. Evaluate Dynamic System Behavior \n",
    "- Implement time-varying arrival rates to reflect real-world demand fluctuations (rush \n",
    "hours). \n",
    "- Add staff breaks and observe their operational impact."
   ]
  },
  {
   "cell_type": "markdown",
   "id": "e565de43",
   "metadata": {},
   "source": [
    "### 6. Model Customer Abandonment \n",
    "- Simulate realistic caller behavior with a patience threshold (abandonment time). \n",
    "- Analyze how inadequate staffing affects customer loss and brand experience. "
   ]
  },
  {
   "cell_type": "markdown",
   "id": "160d930e",
   "metadata": {},
   "source": [
    "### 7. Conduct Cost-Based Decision Making \n",
    "- Formulate total cost as a combination of labor costs and customer wait costs. \n",
    "- Determine the optimal number of agents to minimize total operational expense."
   ]
  },
  {
   "cell_type": "markdown",
   "id": "45cd5002",
   "metadata": {},
   "source": [
    "### 8. Perform Sensitivity & Risk Analysis \n",
    "- Run simulations over multiple days to observe: \n",
    "    - Daily variability in wait time metrics \n",
    "    - Worst-case scenarios \n",
    "- Build an appreciation for uncertainty in operations planning."
   ]
  },
  {
   "cell_type": "markdown",
   "id": "8c72da8c",
   "metadata": {},
   "source": [
    "### 9. Think Like an Operations Manager \n",
    "- Develop data-driven staffing recommendations to meet Service Level Agreements \n",
    "(SLAs). \n",
    "- Communicate findings visually using dashboards, tables, and histograms. "
   ]
  },
  {
   "cell_type": "markdown",
   "id": "e2dd51b5",
   "metadata": {},
   "source": [
    "Learn how to analyze, simulate, and optimize real-world service systems — making it highly \n",
    "relevant to roles in marketing analytics, operations management, customer \n",
    "experience, and business consulting."
   ]
  },
  {
   "cell_type": "markdown",
   "id": "a0e40abe",
   "metadata": {},
   "source": [
    "What we’ll do: \n",
    "1. Model calls arriving at rate λ per hour (Poisson process) and service times of 1/μ hours \n",
    "(Exponential). \n",
    "2. Simulate an M/M/s queue over an 8-hour shift, tracking each caller’s wait time and \n",
    "queue length. \n",
    "3. Compare simulated averages to the M/M/1 analytic formula: \n",
    "o Average customers in system L = ρ/(1−ρ) \n",
    "o Average time in system W = L/λ \n",
    "4. Test staffing levels s = 1…5 and choose the smallest s so that the 95th-percentile wait ≤ \n",
    "5 minutes. \n",
    "We’ll also plot the distribution of wait times and queue lengths to mimic an operations\n",
    "dashboard."
   ]
  },
  {
   "cell_type": "markdown",
   "id": "4bb564a1",
   "metadata": {},
   "source": [
    "# 1. Parameter & Packages\n",
    "This is part of code set up the basic tools and values we need to simulate how a call center works."
   ]
  },
  {
   "cell_type": "markdown",
   "id": "ff7f0f08",
   "metadata": {},
   "source": [
    "### Importing Libraries"
   ]
  },
  {
   "cell_type": "code",
   "execution_count": 1,
   "id": "51b7cab0",
   "metadata": {},
   "outputs": [],
   "source": [
    "import numpy as np\n",
    "import matplotlib.pyplot as plt"
   ]
  },
  {
   "cell_type": "markdown",
   "id": "5489dd36",
   "metadata": {},
   "source": [
    "- numpy (np) is used to do math and simulations, like generating random numbers.\n",
    "- matplotlib.pyplot (plt) is used to create graphs, such as showing wait times or queue lengths."
   ]
  },
  {
   "cell_type": "markdown",
   "id": "31197c5a",
   "metadata": {},
   "source": [
    "##### Set Call Center Parameters"
   ]
  },
  {
   "cell_type": "code",
   "execution_count": 2,
   "id": "72e7d3ea",
   "metadata": {},
   "outputs": [],
   "source": [
    "Lamda = 20          # calls per hour\n",
    "Mu = 5              # calls served per hour\n",
    "shift_hours = 8     # 8-hour shift\n",
    "s = 3           # number of agents"
   ]
  },
  {
   "cell_type": "markdown",
   "id": "bcc19abd",
   "metadata": {},
   "source": [
    "These are the real-world settings for the simulation:\n",
    "- Lamda = 20: On average, 20 people call per hour. This simulates how oftern customers are arriving.\n",
    "- Mu = 5: Each agent can hanfle 5 calls per hour, on average. This sets the speed of customer service.\n",
    "- shift_hours = 8: We will simulate an 8-hour workday, which is a typical full shift in a call center."
   ]
  },
  {
   "cell_type": "markdown",
   "id": "24148651",
   "metadata": {},
   "source": [
    "Set Random Seed"
   ]
  },
  {
   "cell_type": "code",
   "execution_count": 3,
   "id": "3df80d29",
   "metadata": {},
   "outputs": [],
   "source": [
    "np.random.seed(1)"
   ]
  },
  {
   "cell_type": "markdown",
   "id": "61842008",
   "metadata": {},
   "source": [
    "This makes the simulation results reproducible.\n",
    "- Every time you run the code. you'll get the same random results.\n",
    "- This help when you want to share you result with others or test different parts of you code reliably."
   ]
  },
  {
   "cell_type": "markdown",
   "id": "f0ad28b2",
   "metadata": {},
   "source": [
    "Summary:\n",
    "- We are setting the rules of the game how often calls come in how fast agents respond and how long the day lasts.\n",
    "- We also importing tools to help simulate and visualize what happens--and setting a seed so that the"
   ]
  },
  {
   "cell_type": "markdown",
   "id": "46b6df30",
   "metadata": {},
   "source": [
    "This is like setting up the bussiness environment before opening the call center doors in a simulated world"
   ]
  },
  {
   "cell_type": "markdown",
   "id": "57e4a726",
   "metadata": {},
   "source": [
    "This code defines a function that simulates how a call center works when you have multiple agents (s), and shows how long customers wait and how crowded the system is.\n",
    "\n",
    "Function: simulate_queue(s)\n",
    "\n",
    "To simulate a call center with s agents and measure:\n",
    "- How long each customer waits.\n",
    "- How many people are in the sustem at each arival time."
   ]
  },
  {
   "cell_type": "markdown",
   "id": "b5938cca",
   "metadata": {},
   "source": [
    "Create incoming call times"
   ]
  },
  {
   "cell_type": "code",
   "execution_count": 4,
   "id": "f15ff79d",
   "metadata": {},
   "outputs": [],
   "source": [
    "# simulate time between calls using exponential distribution\n",
    "inter = np.random.exponential(1/Lamda, int(Lamda*shift_hours*1.5)) \n",
    "# np.cumsum calculates the cumulative sum of the inter-arrival times\n",
    "arrival = np.cumsum(inter) \n",
    "# filter out calls that arrive after the shift ends\n",
    "arrival = arrival[arrival < shift_hours] \n",
    "n = len(arrival) \n",
    "# number of calls that arrive during the shift"
   ]
  },
  {
   "cell_type": "markdown",
   "id": "a57216c5",
   "metadata": {},
   "source": [
    "Real World meaning: You now have a realistic list of when each customer calls."
   ]
  },
  {
   "cell_type": "code",
   "execution_count": 5,
   "id": "748f9080",
   "metadata": {},
   "outputs": [],
   "source": [
    "# Create random service times for each call\n",
    "service = np.random.exponential(1/Mu, n)"
   ]
  },
  {
   "cell_type": "markdown",
   "id": "218cbfcf",
   "metadata": {},
   "source": [
    "- Simulates how long it takes an agent to handle each customer, also randomlu drawn usng exponential distribution.\n",
    "- Mu is service rate, so i/Mu = average service time.\n",
    "\n",
    " Real World meaning: Not all calls take the same time some are quick and some are longer"
   ]
  },
  {
   "cell_type": "code",
   "execution_count": 6,
   "id": "9291a6f3",
   "metadata": {},
   "outputs": [],
   "source": [
    "# Set up tracking variables\n",
    "next_free = np.zeros(s) # when each agent will be free\n",
    "wait_time = np.zeros(n) # how long each customer waits\n",
    "queue_length = np.zeros(n) # how many people are in the system at each arrival time\n",
    "end_time = []"
   ]
  },
  {
   "cell_type": "markdown",
   "id": "4b5eac61",
   "metadata": {},
   "source": [
    "- These arrays keep track of:\n",
    "    - When agents are free\n",
    "    - How long people wait\n",
    "    - How crowded the systemis "
   ]
  },
  {
   "cell_type": "code",
   "execution_count": 7,
   "id": "52d7f996",
   "metadata": {},
   "outputs": [],
   "source": [
    "# Simulate call processing\n",
    "for i,t in enumerate(arrival):\n",
    "    j = np.argmin(next_free)\n",
    "    start = max(t,next_free[j])\n",
    "    wait_time[i] = start-t\n",
    "    end = start + service[i]\n",
    "    next_free[j] = end\n",
    "    end_time.append(end)\n",
    "    queue_length[i] = np.sum(np.array(end_time) > t)\n",
    "    "
   ]
  },
  {
   "cell_type": "markdown",
   "id": "6c176259",
   "metadata": {},
   "source": [
    "This loop handles each incoming customer:\n",
    "- j = np.argmin(next_free): find the agent who is available first\n",
    "- start = max(t,next_free[j]): Start the call at either the arrival time or when the agent become free, whichever is later.\n",
    "- wait_time[i] = start-t: calculate how long the customer wait\n",
    "- end = start + service[i]: Calculate when the service end\n",
    "- next_free[j]=end: Update that agent's availability time\n",
    "-  end_time.append(end): Add this customer finish time to the record\n",
    "- queue_length[i]= ..... Count how many other customer were still being served when this person arrived\n",
    "\n",
    "Real world meaning: This part simulates the agent-customer assignment process and keeps track of delays and traffic."
   ]
  },
  {
   "cell_type": "markdown",
   "id": "b84c8847",
   "metadata": {},
   "source": [
    "Return the results\n",
    "\n",
    "return wait_times,queue_length\n",
    "\n",
    "This gives us:\n",
    "- The wait time for each customer\n",
    "- The size of the system"
   ]
  },
  {
   "cell_type": "markdown",
   "id": "7e6ddb0d",
   "metadata": {},
   "source": [
    "Example run"
   ]
  },
  {
   "cell_type": "code",
   "execution_count": 8,
   "id": "19c6c4af",
   "metadata": {},
   "outputs": [],
   "source": [
    "# x1,y1 = simulate_queue(s=1)\n",
    "# print(f\"s=1: avg wait {w1.mean()*60:.1f} min, avg queue len {y1.mean():.2f}\")"
   ]
  },
  {
   "cell_type": "markdown",
   "id": "989e0af4",
   "metadata": {},
   "source": [
    "- simulates with 1 agent (s=1)\n",
    "- prints\n",
    "    - The average wait time in minutes\n",
    "    - The average queue_length"
   ]
  },
  {
   "cell_type": "markdown",
   "id": "93579c69",
   "metadata": {},
   "source": [
    "Summary:\n",
    "\n",
    "This function simulates what happen in a call center for one day"
   ]
  },
  {
   "cell_type": "markdown",
   "id": "194a1529",
   "metadata": {},
   "source": [
    "Key Learning points:\n",
    "- How to build a basic simulation model from scratch.\n",
    "- How queueing works in real bussiness\n",
    "- How changes in staffing affect customer experience"
   ]
  },
  {
   "cell_type": "code",
   "execution_count": 9,
   "id": "67a24986",
   "metadata": {},
   "outputs": [
    {
     "name": "stdout",
     "output_type": "stream",
     "text": [
      "s=1: avg wait 697.2 min, avg queue len 57.84\n"
     ]
    }
   ],
   "source": [
    "def simulate_queue(s):\n",
    "    \"\"\"\n",
    "    Simulates a call center with s agents for one day.\n",
    "    \n",
    "    Returns:\n",
    "        wait_times: Average wait time for each customer\n",
    "        queue_length: Average number of customers in the system\n",
    "    \"\"\"\n",
    "    # Generate arrival times until end\n",
    "    inter = np.random.exponential(1/Lamda, int(Lamda*shift_hours*1.5)) \n",
    "    arrival = np.cumsum(inter) \n",
    "    arrival = arrival[arrival < shift_hours] \n",
    "    n = len(arrival) \n",
    "    # Generate service times for each call\n",
    "    service = np.random.exponential(1/Mu, n)\n",
    "    \n",
    "    # Track each server next free time\n",
    "    next_free = np.zeros(s) \n",
    "    wait_time = np.zeros(n) \n",
    "    queue_length = np.zeros(n) \n",
    "    end_time = []\n",
    "    \n",
    "    for i,t in enumerate(arrival):\n",
    "        j = np.argmin(next_free)\n",
    "        start = max(t,next_free[j])\n",
    "        wait_time[i] = start-t\n",
    "        end = start + service[i]\n",
    "        next_free[j] = end\n",
    "        end_time.append(end)\n",
    "        queue_length[i] = np.sum(np.array(end_time) > t)\n",
    "    return wait_time, queue_length\n",
    "w1, y1 = simulate_queue(s=1)\n",
    "print(f\"s=1: avg wait {w1.mean()*60:.1f} min, avg queue len {y1.mean():.2f}\")"
   ]
  },
  {
   "cell_type": "markdown",
   "id": "edc6a082",
   "metadata": {},
   "source": [
    "Compare the analysis for queue formula with 1 server"
   ]
  },
  {
   "cell_type": "markdown",
   "id": "4cc8f22d",
   "metadata": {},
   "source": [
    "### Step 3: Compare to M/M'/1 Analytic formula\n",
    "- M/M'/1 is queueing model:\n",
    "    - M = Memoryless arrivals(Poisson)\n",
    "    - M' = Memoryless service time(Exponential)\n",
    "    - 1 = one server\n",
    "\n",
    "We use formula from queueing theory to estimate:\n",
    "- Average number of people in the system(L)\n",
    "- Average time spent in the system (W)"
   ]
  },
  {
   "cell_type": "code",
   "execution_count": 10,
   "id": "3fdb02d5",
   "metadata": {},
   "outputs": [],
   "source": [
    "# Traffic intensity p for s=1\n",
    "p1 = Lamda / Mu"
   ]
  },
  {
   "cell_type": "markdown",
   "id": "57d0ba7a",
   "metadata": {},
   "source": [
    "- This is called traffic intensity\n",
    "- it shows how busy system is\n",
    "- example: if 20 call come per hour and 1 agent can handle 5-> p = 20/5=4 which mean overloaded\n",
    "\n",
    "    when p>=1 the system become unstable \n",
    "\n",
    "\n",
    "\n"
   ]
  },
  {
   "cell_type": "code",
   "execution_count": 11,
   "id": "e5237af7",
   "metadata": {},
   "outputs": [],
   "source": [
    "L_analytic = p1/(1-p1)\n",
    "# This formula gives the avg no. of people in system \n",
    "# Works only when p<1"
   ]
  },
  {
   "cell_type": "code",
   "execution_count": 12,
   "id": "ce58befd",
   "metadata": {},
   "outputs": [],
   "source": [
    "W_analytic = L_analytic / Lamda\n",
    "# This formula gives the avg time spent in system\n",
    "# W = L / Lamda comes from Little's Law"
   ]
  },
  {
   "cell_type": "code",
   "execution_count": 13,
   "id": "f1bfe64e",
   "metadata": {},
   "outputs": [
    {
     "name": "stdout",
     "output_type": "stream",
     "text": [
      "M/M'/1 Analysis vs. Simulation:\n"
     ]
    }
   ],
   "source": [
    "# Print and compare results\n",
    "print(\"M/M'/1 Analysis vs. Simulation:\")\n",
    "# Printing title so it is clear what we are comparing"
   ]
  },
  {
   "cell_type": "code",
   "execution_count": 14,
   "id": "3b6c82d4",
   "metadata": {},
   "outputs": [
    {
     "name": "stdout",
     "output_type": "stream",
     "text": [
      "Analytic system size L = -1.33\n"
     ]
    }
   ],
   "source": [
    "print(f\"Analytic system size L = {L_analytic:.2f}\")\n",
    "# Show the average number of people in the system"
   ]
  },
  {
   "cell_type": "code",
   "execution_count": 15,
   "id": "0ea8b2b3",
   "metadata": {},
   "outputs": [
    {
     "name": "stdout",
     "output_type": "stream",
     "text": [
      "Simulated avg system size = 57.84\n"
     ]
    }
   ],
   "source": [
    "print(f\"Simulated avg system size = {y1.mean():.2f}\")\n",
    "# Compares it to simulation result"
   ]
  },
  {
   "cell_type": "code",
   "execution_count": 16,
   "id": "6355e763",
   "metadata": {},
   "outputs": [
    {
     "name": "stdout",
     "output_type": "stream",
     "text": [
      "Analytics time in system W = -4.0 min\n"
     ]
    }
   ],
   "source": [
    "print(f\"Analytics time in system W = {W_analytic*60:.1f} min\")\n",
    "# Show the average time spent in the system"
   ]
  },
  {
   "cell_type": "code",
   "execution_count": 17,
   "id": "e2a760ed",
   "metadata": {},
   "outputs": [
    {
     "name": "stdout",
     "output_type": "stream",
     "text": [
      "Simulated avg wait+service = 709.2 min\n"
     ]
    }
   ],
   "source": [
    "print(f\"Simulated avg wait+service = {w1.mean()*60+(1/Mu)*60:.1f} min\")\n",
    "# Compares it to simulation result"
   ]
  },
  {
   "cell_type": "markdown",
   "id": "b8e7790e",
   "metadata": {},
   "source": [
    "Summary:\n",
    "\n",
    "We are comparing theory with reality\n",
    "\n",
    "The formula tell what to expect\n",
    "\n",
    "The simulation shows what actually hapens\n",
    "\n",
    "If they are close our model is accurate"
   ]
  },
  {
   "cell_type": "markdown",
   "id": "41703428",
   "metadata": {},
   "source": [
    "Important Points:\n",
    "- It validate your simulation are your result realistics?\n",
    "- It help student see how math mmodels can predict operations perfomance\n",
    "- It prepares them to defend their staffing recommendation using both theory and data\n",
    "\n",
    "This is a core skill in operations and service analytics"
   ]
  },
  {
   "cell_type": "code",
   "execution_count": 18,
   "id": "450f5a8b",
   "metadata": {},
   "outputs": [
    {
     "name": "stdout",
     "output_type": "stream",
     "text": [
      "M/M'/1 Analysis vs. Simulation:\n",
      "Analytic system size L = -1.33\n",
      "Simulated avg system size = 57.84\n",
      "Analytics time in system W = -4.0 min\n",
      "Simulated avg wait+service = 709.2 min\n"
     ]
    }
   ],
   "source": [
    "# 3. Compare to M/M'/1 Analytics formula\n",
    "# Traffic intensity p for s=1\n",
    "p1 = Lamda / Mu\n",
    "L_analytic = p1/(1-p1)\n",
    "W_analytic = L_analytic / Lamda  # Hours\n",
    "\n",
    "print(\"M/M'/1 Analysis vs. Simulation:\")\n",
    "print(f\"Analytic system size L = {L_analytic:.2f}\")\n",
    "print(f\"Simulated avg system size = {y1.mean():.2f}\")\n",
    "print(f\"Analytics time in system W = {W_analytic*60:.1f} min\")\n",
    "print(f\"Simulated avg wait+service = {w1.mean()*60+(1/Mu)*60:.1f} min\")\n"
   ]
  },
  {
   "cell_type": "markdown",
   "id": "f55ae417",
   "metadata": {},
   "source": [
    "### Step 4: Test Staffing Levels (Agents = 1 to 5)\n",
    "Figure out how many call center agents are needed to keep most customers from waiting long\n",
    "\n",
    "Specially, we want the 95th percentile of wait time to be 5 min or less "
   ]
  },
  {
   "cell_type": "code",
   "execution_count": 19,
   "id": "d4186f36",
   "metadata": {},
   "outputs": [],
   "source": [
    "results = []\n",
    "for s in range (1,6):\n",
    "    w,q = simulate_queue(s)\n",
    "    waits_min = w*60\n",
    "    p95_wait = np.percentile(waits_min, 95)\n",
    "    results.append((s,waits_min.mean(), p95_wait,q.mean()))"
   ]
  },
  {
   "cell_type": "markdown",
   "id": "e99e21f9",
   "metadata": {},
   "source": [
    "This loop simulates the call center with:\n",
    "- 1 agent, then 2, then upto 5\n",
    "\n",
    "for each simulation\n",
    "- w = wait time for customer in hour\n",
    "- We convert it to min\n",
    "- p95_wait is 95th percentile wait time\n",
    "- q.mean(): the average number of people in system\n",
    "- At end row added to results contains:\n",
    "\n",
    "(Number of agent, avg wait, 95th percentile wait, avg system size)"
   ]
  },
  {
   "cell_type": "code",
   "execution_count": 20,
   "id": "746b8d23",
   "metadata": {},
   "outputs": [
    {
     "name": "stdout",
     "output_type": "stream",
     "text": [
      "   Agents  Avg Wait (min)  95th Percentile Wait (min)  Avg Queue Length\n",
      "0       1      843.661269                 1550.454243         71.901163\n",
      "1       2      230.216131                  453.493669         40.662338\n",
      "2       3       64.827234                  114.744308         18.157895\n",
      "3       4       47.127272                   87.338188         21.359788\n",
      "4       5        9.671908                   29.721832          9.129353\n"
     ]
    }
   ],
   "source": [
    "import pandas as pd\n",
    "df = pd.DataFrame(results, columns=['Agents', 'Avg Wait (min)', '95th Percentile Wait (min)', 'Avg Queue Length'])\n",
    "print(df)"
   ]
  },
  {
   "cell_type": "markdown",
   "id": "b837ece6",
   "metadata": {},
   "source": [
    "- Converts the list into table using pandas\n",
    "- Display how different staffing levels impact wait time and system load"
   ]
  },
  {
   "cell_type": "code",
   "execution_count": 21,
   "id": "fee001be",
   "metadata": {},
   "outputs": [
    {
     "name": "stdout",
     "output_type": "stream",
     "text": [
      "\n",
      " 5 agents cant keep 95% of customers waiting 5 min or less\n"
     ]
    }
   ],
   "source": [
    "threshold = 5  # 5 minutes\n",
    "good = df[df['95th Percentile Wait (min)'] <= threshold]\n",
    "if not good.empty:\n",
    "    best_5 = int(good.iloc[0]['Agents'])\n",
    "    print(f\"\\n+ Schedule at least {best_5} agents to keep 95% of customers waiting {threshold} min or less\")\n",
    "else:\n",
    "    print(\"\\n 5 agents cant keep 95% of customers waiting 5 min or less\")"
   ]
  },
  {
   "cell_type": "markdown",
   "id": "3117fbb0",
   "metadata": {},
   "source": [
    "- This check which agent level meet the target(p95 wait <= 5 min)\n",
    "- If such level exist we choose the smallest one that work\n",
    "- If none of them meet target , we get a message"
   ]
  },
  {
   "cell_type": "markdown",
   "id": "f661d751",
   "metadata": {},
   "source": [
    "Summary:\n",
    "\n",
    "We simulate different level and ask: \"What is min no. of agent needed as per the given threshold?\"\n",
    "\n",
    "This helps you make smart staffing decisions-enough people to keep service fast but not so many that waste resources"
   ]
  },
  {
   "cell_type": "markdown",
   "id": "c14821ea",
   "metadata": {},
   "source": [
    "Important Points:\n",
    "- how to optimize staffing based on perfomance target\n",
    "- Intorduce percentiles\n",
    "- Shows how to use simulation for real world decision making"
   ]
  },
  {
   "cell_type": "code",
   "execution_count": 22,
   "id": "30c7a1ec",
   "metadata": {},
   "outputs": [
    {
     "name": "stdout",
     "output_type": "stream",
     "text": [
      "   Agents  Avg Wait (min)  95th Percentile Wait (min)  Avg Queue Length\n",
      "0       1      805.263001                 1321.451663         64.625000\n",
      "1       2      163.049632                  328.521876         32.073333\n",
      "2       3      110.868552                  167.215022         33.088757\n",
      "3       4       17.666791                   44.414092         10.552941\n",
      "4       5       15.106130                   36.918488         10.754286\n",
      "\n",
      " 5 agents cant keep 95% of customers waiting 5 min or less\n"
     ]
    }
   ],
   "source": [
    "# 4. Test Staffing levels (s=1 to 5)\n",
    "threshold = 5  # 5 minutes\n",
    "results = []\n",
    "for s in range (1,6):\n",
    "    w,q = simulate_queue(s)\n",
    "    waits_min = w*60\n",
    "    p95_wait = np.percentile(waits_min, 95)\n",
    "    results.append((s,waits_min.mean(), p95_wait,q.mean()))\n",
    "\n",
    "df = pd.DataFrame(results, columns=['Agents', 'Avg Wait (min)', '95th Percentile Wait (min)', 'Avg Queue Length'])\n",
    "print(df)\n",
    "\n",
    "good = df[df['95th Percentile Wait (min)'] <= threshold]\n",
    "if not good.empty:\n",
    "    best_5 = int(good.iloc[0]['Agents'])\n",
    "    print(f\"\\n+ Schedule at least {best_5} agents to keep 95% of customers waiting {threshold} min or less\")\n",
    "else:\n",
    "    print(\"\\n 5 agents cant keep 95% of customers waiting 5 min or less\")"
   ]
  },
  {
   "cell_type": "markdown",
   "id": "21f8ec07",
   "metadata": {},
   "source": [
    "### Step 5. Visualize Wait-Time Distribution\n",
    "Create visual representation showing how customer wait times changes as we increase no. of agents.\n",
    "\n",
    "Number are helpful, but graphs let you see the big picture\n",
    "- Are most wait times short?\n",
    "- Are long waits rare or common?\n",
    "- How dose the system improve as we add agents?"
   ]
  },
  {
   "cell_type": "code",
   "execution_count": 23,
   "id": "629e55f7",
   "metadata": {},
   "outputs": [
    {
     "data": {
      "image/png": "[encoded data removed]",
      "text/plain": [
       "<Figure size 1600x800 with 1 Axes>"
      ]
     },
     "metadata": {},
     "output_type": "display_data"
    },
    {
     "data": {
      "image/png": "[encoded data removed]",
      "text/plain": [
       "<Figure size 640x480 with 1 Axes>"
      ]
     },
     "metadata": {},
     "output_type": "display_data"
    },
    {
     "data": {
      "image/png": "[encoded data removed]",
      "text/plain": [
       "<Figure size 640x480 with 1 Axes>"
      ]
     },
     "metadata": {},
     "output_type": "display_data"
    },
    {
     "data": {
      "image/png": "[encoded data removed]",
      "text/plain": [
       "<Figure size 640x480 with 1 Axes>"
      ]
     },
     "metadata": {},
     "output_type": "display_data"
    },
    {
     "data": {
      "image/png": "[encoded data removed]",
      "text/plain": [
       "<Figure size 640x480 with 1 Axes>"
      ]
     },
     "metadata": {},
     "output_type": "display_data"
    }
   ],
   "source": [
    "# Giving the size of figure\n",
    "plt.figure(figsize=(16,8))\n",
    "for s in range(1,6):\n",
    "    w, _ = simulate_queue(s)\n",
    "    plt.hist(w*60,bins=30,alpha=0.5,label=f's={s}')\n",
    "    plt.axvline(threshold,color='k',linestyle='--',label='5 min target')\n",
    "    plt.xlabel(\"Wait time (min)\")\n",
    "    plt.ylabel(\"Frequency\")\n",
    "    plt.title(\"Wait-Time Distribution\")\n",
    "    plt.legend()\n",
    "    plt.show()"
   ]
  },
  {
   "cell_type": "markdown",
   "id": "c10a222d",
   "metadata": {},
   "source": [
    "- for each number of agents from 1 to 5:\n",
    "    - Run the simulation (simulate_queue(s))\n",
    "    - Take the wait times w and convert from hour to min (w*60)\n",
    "    - Plot histogram\n",
    "    - bins=30: Break the x-axis into 30 buckets\n",
    "    - alpha=0.5: Makes the bars semi-transparent so different colors overlap\n",
    "    - label=f's=(s)': Adds a legend label for the nun=mber of agents used in each plot\n",
    "    - Draws a vertical dased line ar 5 min \n",
    "    - Helps us visually compare each distribution to the target\n",
    "    - xlabel and ylabel used to define label of x-axis and y-axis\n",
    "    - Adds a title and legend\n",
    "    - plt.show() display the chart"
   ]
  },
  {
   "cell_type": "markdown",
   "id": "0b65acfb",
   "metadata": {},
   "source": [
    "What the chart shows:\n",
    "- Each color represent a different numberof agents\n",
    "- You'll see that with:\n",
    "    - 1 agent -> many customers wait a long time\n",
    "    - More agents -> wait times sift left\n",
    "- The dashed line at 5 min shows which staffing levels meet the target"
   ]
  },
  {
   "cell_type": "markdown",
   "id": "86259feb",
   "metadata": {},
   "source": [
    "Summary:\n",
    "- This chart shows how wait times improve as we add more agents\n",
    "- It helps us visually decide how many staff we need to keep customers happy"
   ]
  },
  {
   "cell_type": "markdown",
   "id": "0069fd11",
   "metadata": {},
   "source": [
    "Key points:\n",
    "- How to use the histogram to analyze distribution\n",
    "- The importance of visual data analysis in decision making\n",
    "- How to interpret the shape and spread of wait times-nnot just averages\n",
    "\n",
    "This is a great skill for careers in operation management, customer experience, and data-driven service design"
   ]
  },
  {
   "cell_type": "code",
   "execution_count": 24,
   "id": "7bfd541f",
   "metadata": {},
   "outputs": [
    {
     "data": {
      "image/png": "[encoded data removed]",
      "text/plain": [
       "<Figure size 800x400 with 1 Axes>"
      ]
     },
     "metadata": {},
     "output_type": "display_data"
    }
   ],
   "source": [
    "plt.figure(figsize=(8,4))\n",
    "for s in [1,2,3,4,5]:\n",
    "    w,_ = simulate_queue(s)\n",
    "    plt.hist(w*60,bins=30,alpha=0.5,label=f's={s}')\n",
    "plt.axvline(threshold,color='k',linestyle='--',label='5 min target')\n",
    "plt.xlabel('Wait time (min)')\n",
    "plt.ylabel('Frequency')\n",
    "plt.title(\"Wait-Time Distribution for different agents counts\")\n",
    "plt.legend()\n",
    "plt.show()"
   ]
  },
  {
   "cell_type": "markdown",
   "id": "a2067263",
   "metadata": {},
   "source": [
    "How this solves a real problem:\n",
    "1. Modeling calls as random arrivals and exponential service time reflect telecom center behavior\n",
    "2. Simulation over an 8-hour shift shows actual customer waits and queue sizes\n",
    "3. Analytic comparision with M/M'/1 formulas validates your simulation code\n",
    "4. Staffing test finds the minimum number of agents to meet a 5-min 95th percentile wait-time service level agreement (SLA)\n",
    "5. Visual outputs mirror real operation dashboards, helping you justify staffing decision to management"
   ]
  },
  {
   "cell_type": "markdown",
   "id": "641fae6e",
   "metadata": {},
   "source": [
    "### 6. Time-Varying Arrial Rates (peak vs off-peak)\n",
    "What: Model Lambda changing over the 8-hour shift- for example, a morning 'rush'(higher lambda) a midday lull, and an afternoon spike.\n",
    "\n",
    "Why: Real call centers see non-stationary traffic\n",
    "\n",
    "Function: simulate_queue_timevarying(s)\n",
    "\n",
    "To simulate how wait times change when call volume varies at ifferent time of the day"
   ]
  },
  {
   "cell_type": "code",
   "execution_count": 25,
   "id": "41149e22",
   "metadata": {},
   "outputs": [
    {
     "data": {
      "text/plain": [
       "[(0, 2, 30), (2, 6, 20), (6, 8, 40)]"
      ]
     },
     "execution_count": 25,
     "metadata": {},
     "output_type": "execute_result"
    }
   ],
   "source": [
    "# Define changing arrival rates\n",
    "periods = [(0,2,30),(2,6,20),(6,8,40)]\n",
    "periods\n",
    "# This defines arrival rates for different time periods in an 8-hour shift"
   ]
  },
  {
   "cell_type": "code",
   "execution_count": 26,
   "id": "d6ad3cab",
   "metadata": {},
   "outputs": [],
   "source": [
    "arrivals = []\n",
    "for start,end,lan in periods:\n",
    "    duration = end - start\n",
    "    inter = np.random.exponential(1/lan,int(lan*duration*1.5))\n",
    "    ts = np.cumsum(inter)+start\n",
    "    arrivals.append(ts[ts<end])\n"
   ]
  },
  {
   "cell_type": "markdown",
   "id": "b7d21c3f",
   "metadata": {},
   "source": [
    "- for each time periode:\n",
    "    - Generate random call intervals based on the arrival rate\n",
    "    - Convert interval into actual arrival time using np.sumsum\n",
    "    - Keep only those that occur within the time window\n",
    "- Then combine all periods into a single list arrivals"
   ]
  },
  {
   "cell_type": "markdown",
   "id": "891781cd",
   "metadata": {},
   "source": [
    "- Make it a clean sorted array\n",
    "\n",
    "Real world meaning: Calls don't come at the same rate all day some time are busier"
   ]
  },
  {
   "cell_type": "code",
   "execution_count": 27,
   "id": "e3280da9",
   "metadata": {},
   "outputs": [],
   "source": [
    "arrivals = np.concatenate(arrivals)\n",
    "arrivals.sort()"
   ]
  },
  {
   "cell_type": "code",
   "execution_count": 28,
   "id": "b9886b21",
   "metadata": {},
   "outputs": [],
   "source": [
    "# Simulate service times \n",
    "size = len(arrivals)\n",
    "service = np.random.exponential(1/Mu, size)\n",
    "# For each incoming call, generate a random service time"
   ]
  },
  {
   "cell_type": "markdown",
   "id": "dbaa0670",
   "metadata": {},
   "source": [
    "Simulate wait times"
   ]
  },
  {
   "cell_type": "code",
   "execution_count": 29,
   "id": "23a16f43",
   "metadata": {},
   "outputs": [],
   "source": [
    "next_free = np.zeros(s) # keep track of when each agent will be free\n",
    "wait_time = np.zeros(size) # how long each customer waits\n"
   ]
  },
  {
   "cell_type": "code",
   "execution_count": 30,
   "id": "0cb8e76e",
   "metadata": {},
   "outputs": [],
   "source": [
    "# Initialize next_free with correct number of agents\n",
    "next_free = np.zeros(s)\n",
    "wait_time = np.zeros(len(arrivals))  # Fix: match wait_time size to arrivals\n",
    "service = np.random.exponential(1/Mu, len(arrivals))  # Ensure service array matches arrivals length\n",
    "\n",
    "# Loop through customers\n",
    "for i, t in enumerate(arrivals):\n",
    "    j = np.argmin(next_free)\n",
    "    start = max(t, next_free[j])\n",
    "    wait_time[i] = start - t\n",
    "    next_free[j] = start + service[i]"
   ]
  },
  {
   "cell_type": "markdown",
   "id": "3c466125",
   "metadata": {},
   "source": [
    "- For each arriving call:\n",
    "    - Find the next available agent\n",
    "    - See if the agent is free when the call arrives or if the caller needs to wait\n",
    "    - Update\n",
    "        - The caller's wait time\n",
    "        - When the agent will be free again "
   ]
  },
  {
   "cell_type": "markdown",
   "id": "fcd30a90",
   "metadata": {},
   "source": [
    "Return results:\n",
    "\n",
    "return wait_times\n",
    "- Returns list of wait times for each customers during the full 8-hour day"
   ]
  },
  {
   "cell_type": "markdown",
   "id": "7fa53b9d",
   "metadata": {},
   "source": [
    "Run the simulation for 3 agents"
   ]
  },
  {
   "cell_type": "markdown",
   "id": "5cc015a5",
   "metadata": {},
   "source": [
    "Summary:\n",
    "\n",
    "This function simulates a real-world call center where call volume changes throughout the day. It helps us understand how many agents we need to keep up with busy and slow hours, and how those ups and downs affects customer wait times."
   ]
  },
  {
   "cell_type": "markdown",
   "id": "9d01929b",
   "metadata": {},
   "source": [
    "Key learning Points:\n",
    "- How to model non-constant traffic.\n",
    "- Why a staffing plan must match daily demand pattern\n",
    "- How to simulate and measure wait times for variable arrival rates\n",
    "\n",
    "This is an important skill for operations managers, marketing analyst and service designers planning for customer support, retail traffic, or web requests."
   ]
  },
  {
   "cell_type": "code",
   "execution_count": 33,
   "id": "c809f98c",
   "metadata": {},
   "outputs": [
    {
     "name": "stdout",
     "output_type": "stream",
     "text": [
      "Time-varying lambda, s=3-> avg wait=163.5 min\n"
     ]
    }
   ],
   "source": [
    "# Time-Varying lambda\n",
    "def simulate_queue_timevarying(s):\n",
    "    # Define arrival rate every hour\n",
    "    periods = [(0,2,30),(2,6,20),(6,8,40)] # (start,end,lambda)\n",
    "    arrivals = []\n",
    "    for start,end,lan in periods:\n",
    "        duration = end - start\n",
    "        inter = np.random.exponential(1/lan,int(lan*duration*1.5))\n",
    "        ts = np.cumsum(inter)+start\n",
    "        arrivals.append(ts[ts<end])\n",
    "    arrivals = np.concatenate(arrivals)\n",
    "    arrivals.sort()\n",
    "    size = len(arrivals)\n",
    "    service = np.random.exponential(1/Mu, size)\n",
    "    next_free = np.zeros(s)\n",
    "    wait_time = np.zeros(len(arrivals))  # Fix: match wait_time size to arrivals\n",
    "    service = np.random.exponential(1/Mu, len(arrivals))  # Ensure service array matches arrivals length\n",
    "\n",
    "    # Loop through customers\n",
    "    for i, t in enumerate(arrivals):\n",
    "        j = np.argmin(next_free)\n",
    "        start = max(t, next_free[j])\n",
    "        wait_time[i] = start - t\n",
    "        next_free[j] = start + service[i]\n",
    "    return wait_time\n",
    "\n",
    "# Example run\n",
    "w_tv = simulate_queue_timevarying(s=3)\n",
    "print(f\"Time-varying lambda, s=3-> avg wait={w_tv.mean()*60:.1f} min\")"
   ]
  },
  {
   "cell_type": "markdown",
   "id": "a1df5b50",
   "metadata": {},
   "source": [
    "### 7. Customer Abandonment (Patience Threshold)\n",
    "What: Assume callers hang up if wait > 5 min. Track the abandonment rate.\n",
    "\n",
    "Why: Real centers lose callers who won't wait forever."
   ]
  },
  {
   "cell_type": "markdown",
   "id": "6530ca53",
   "metadata": {},
   "source": [
    "### 7. Customer Abandonment (Impatience)\n",
    "Simulate what happens when customers hang up and leave if they have to wait too long.\n",
    "\n",
    "This is called abandonment, and it's real issue in call centers, customer servie, and support, and support chat system."
   ]
  },
  {
   "cell_type": "code",
   "execution_count": 36,
   "id": "548d260e",
   "metadata": {},
   "outputs": [],
   "source": [
    "def simulate_with_abandon(s,patience=5/60):  # Function defination\n",
    "    \n",
    "    # Generating arrival and service times\n",
    "    arrivals = np.cumsum(np.random.exponential(1/Lamda,int(Lamda*shift_hours*1.5)))\n",
    "    arrivals = arrivals[arrivals<shift_hours]\n",
    "    services = np.random.exponential(1/Mu,len(arrivals))\n",
    "    \n",
    "    # Initialize Trackers\n",
    "    next_free = np.zeros(s) # Track when each agent become available\n",
    "    waits = []  # Stores wait times for customers who actually get served\n",
    "    abandons = 0 # Counts how many leave without service\n",
    "    \n",
    "    # Stimulate customer behavior\n",
    "    for i, t in enumerate(arrivals):\n",
    "        j = np.argmin(next_free)\n",
    "        start = max(t,next_free[j])\n",
    "        wait = start-t\n",
    "        if wait > patience:\n",
    "            abandons +=1\n",
    "        else:\n",
    "            waits.append(wait)\n",
    "            next_free[j] = start + services[i]\n",
    "    return np.array(waits), abandons/len(arrivals)\n",
    "            "
   ]
  },
  {
   "cell_type": "markdown",
   "id": "68a95b07",
   "metadata": {},
   "source": [
    "For each customer:\n",
    "- Find the soonest available agent\n",
    "- If they have to wait longer than 5 min, they abandon\n",
    "- Otherwise:\n",
    "    - They wait\n",
    "    - They get served\n",
    "    - The agent becomes available again after service time\n",
    "- Return the results\n",
    "    - waits: Actual wait times \n",
    "    - abandons: the abandonment rate"
   ]
  },
  {
   "cell_type": "markdown",
   "id": "08e66ac3",
   "metadata": {},
   "source": [
    "Run the simulation"
   ]
  },
  {
   "cell_type": "code",
   "execution_count": null,
   "id": "87c5a8f6",
   "metadata": {},
   "outputs": [
    {
     "name": "stdout",
     "output_type": "stream",
     "text": [
      "Abandon rate (s=4): 23.60%, avg wait on served calls: 1.1 min\n"
     ]
    }
   ],
   "source": [
    "w,ab_rate = simulate_with_abandon(s=4)\n",
    "print(f\"Abandon rate (s=4): {ab_rate*100:.2f%}, avg wait on served calls: {w.mean()*60:.1f} min\")"
   ]
  },
  {
   "cell_type": "markdown",
   "id": "bc5ff39d",
   "metadata": {},
   "source": [
    "Summary:\n",
    "\n",
    "We are simulating a real call center where customers hang up if they wait more than 5 min. We track how many leave and rest waited.\n",
    "\n",
    "Key Learnings:\n",
    "- How to model realistic customer behaviour\n",
    "- Why fast service reduces customer loss\n",
    "- How to calculate and interpret abandonment rate\n",
    "- How to use simulation for experience-focused planning\n",
    "\n",
    "This is valuable in call centers, e-commerce, cat support, and mobile apps, where user patience is limited."
   ]
  },
  {
   "cell_type": "markdown",
   "id": "e664fc90",
   "metadata": {},
   "source": [
    "### 8. Agent Break Scheduling \n",
    "What: Schedule each agent to take 15 min break in the middle of the shift, reducing s by 1 during that time.\n",
    "\n",
    "Why: Staffing levels fluctuate in reality with breaks.\n",
    "\n",
    "Simulate a realistic scenario where agents take a break during their shift, which reduces the number of available staff for short time--and see how this affects customers wait times."
   ]
  },
  {
   "cell_type": "markdown",
   "id": "048a2e2b",
   "metadata": {},
   "source": [
    "Why we need it:\n",
    "\n",
    "In the real world, employees can't work nonstop. Lunches, coffee breaks, and rest periods must be scheduled--but these still affect service perfomance. This model capture that effect."
   ]
  },
  {
   "cell_type": "code",
   "execution_count": 43,
   "id": "ca9078a6",
   "metadata": {},
   "outputs": [
    {
     "name": "stdout",
     "output_type": "stream",
     "text": [
      "Avg wait with breaks (s=3): 82.8 min\n"
     ]
    }
   ],
   "source": [
    "# Function defination to simulate with breaks\n",
    "def simulate_with_breaks(s,break_start=3, break_time=0.25):\n",
    "    # Generate arrival and service times\n",
    "    arrivals = np.cumsum(np.random.exponential(1/Lamda,int(Lamda*shift_hours*1.5)))\n",
    "    arrivals = arrivals[arrivals < shift_hours]\n",
    "    services = np.random.exponential(1/Mu, len(arrivals))\n",
    "    # Initialize trackers\n",
    "    next_free = np.zeros(s)  # When each agent will be free\n",
    "    waits = []\n",
    "    \n",
    "    # Main simulation loop\n",
    "    for i,t in enumerate(arrivals):\n",
    "        # For every arriving customer\n",
    "        # Adjust for breaks\n",
    "        avail = next_free.copy()\n",
    "        if break_start < t < break_start + break_time:\n",
    "            avail = np.delete(avail,0) # simulate one agent on break\n",
    "        j = np.argmin(avail)  # Find the next available agent\n",
    "        start = max(t, avail[j])\n",
    "        waits.append(start - t)  # Calculate wait time\n",
    "        \n",
    "        # Update next free time\n",
    "        idx = j+(1 if break_start < t < break_start + break_time else 0)\n",
    "        next_free[idx] = start + services[i]\n",
    "    return np.array(waits)\n",
    "w_break = simulate_with_breaks(s=3)\n",
    "print(f\"Avg wait with breaks (s=3): {w_break.mean()*60:.1f} min\")\n",
    "    "
   ]
  },
  {
   "cell_type": "markdown",
   "id": "fbd5c52d",
   "metadata": {},
   "source": [
    "Function Defination:\n",
    "- s: Number of agents\n",
    "- break_start=3: Break start ar hour 3 of the shift\n",
    "- break_time=0.25: break lasts 15 min\n",
    "\n",
    "- Simulates:\n",
    "    - When customers call \n",
    "    - How long their service takes\n",
    "- next_free: Track when each agent is available again\n",
    "- waits: Stores each customer's wait time\n",
    "- During the break window, we remove 1 agent from the pool-- simulating a break.\n",
    "- np.delete(avail,0): removes one agent.\n",
    "- j is the index of the soonest-available agent\n",
    "- Calculate the customer's wait time\n",
    "- After the call end, update the agent's availability\n",
    "- idx adjusts for the shift in indexing if someone is on break\n",
    "- Return all customer wait for the day\n",
    "- Run an example with 3 agents\n",
    "- Print avg wait time"
   ]
  },
  {
   "cell_type": "markdown",
   "id": "30ebdf6c",
   "metadata": {},
   "source": [
    "Summary:\n",
    "\n",
    "This simulation shows what happens when one of the 3 agents takes a 15 min break. Wait times get longer during break, then recover after break.\n",
    "- How real world scheduling affects customer service perfomance\n",
    "- Why staggered breaks are important in operation planning\n",
    "- How even small changes in staffing can cause visible spikes in customer wait times\n",
    "\n",
    "This is highly relevant to retail, hospitality, call centers, and any customer facing environment with shift workers."
   ]
  },
  {
   "cell_type": "markdown",
   "id": "da164fd9",
   "metadata": {},
   "source": [
    "### 9. Cost Based Staffing Optimization\n",
    "What: Assign a cost per agent per hour and a cost per miniute of customer wait. Find s minimizing total cost:\n",
    "cost = s x c agent x 8 + sum all waits cWaits x (wait in min)\n",
    "\n",
    "Why: Real managers trade off staffing vs. customer frustration costs."
   ]
  },
  {
   "cell_type": "markdown",
   "id": "c3d9e977",
   "metadata": {},
   "source": [
    "### Step 9. Cost Optimization--How many agents should we hire?\n",
    "Find the best mumber of agents(from 1 to 5) that minimizes total cost, including:\n",
    "- Wages paid to agents\n",
    "- Cost of customers waiting"
   ]
  },
  {
   "cell_type": "markdown",
   "id": "aa01f5dc",
   "metadata": {},
   "source": [
    "Why This is Important:\n",
    "\n",
    "In bussiness, it's not just about short wait times--it's about balancing service quality with cost.\n",
    "\n",
    "This model helps managers:\n",
    "\n",
    "How many people should we schedule so we don't overpay or loss customers?"
   ]
  },
  {
   "cell_type": "code",
   "execution_count": 45,
   "id": "db412854",
   "metadata": {},
   "outputs": [
    {
     "name": "stdout",
     "output_type": "stream",
     "text": [
      "Agent count, Total Cost:\n",
      "s=1: f $203\n",
      "s=2: f $393\n",
      "s=3: f $581\n",
      "s=4: f $699\n",
      "s=5: f $839\n",
      "-> Optimal s by cost = 1\n"
     ]
    }
   ],
   "source": [
    "# Set cost parameters\n",
    "c_agent = 20  # Cost per agent per hour\n",
    "c_wait = 0.5  # Cost per minute of customer wait\n",
    "costs = []\n",
    "for s in range(1,6):\n",
    "    w,_ = simulate_with_abandon(s)\n",
    "    total_wait_cost = w.sum()*60*c_wait\n",
    "    staff_cost = s * c_agent * shift_hours\n",
    "    costs.append((s, total_wait_cost + staff_cost))\n",
    "opt = min(costs,key=lambda x: x[1])\n",
    "print(\"Agent count, Total Cost:\")\n",
    "for s,c in costs: print(f\"s={s}: f ${c:.0f}\")\n",
    "print(f\"-> Optimal s by cost = {opt[0]}\")"
   ]
  },
  {
   "cell_type": "markdown",
   "id": "98304b46",
   "metadata": {},
   "source": [
    "Code Breakdown:"
   ]
  },
  {
   "cell_type": "markdown",
   "id": "fc57a82d",
   "metadata": {},
   "source": [
    "- Each agent earn $20 per hour\n",
    "- Each miniute a customer waits cost the bussiness $0.50\n",
    "For each number of agents (s from 1 to 5)\n",
    "1. Run simulation with that many agents and abandonment behavior\n",
    "2. Calculate:\n",
    "    - total_wait_costs: total miniutes waited  x $0.50\n",
    "    - staff_costL number of agents x $20/hour x 8 hour\n",
    "    - Total cost = staff cost + customer wait cost\n",
    "3. Save the result in costs list\n",
    "- Find the (s,cost) pair with the lowest total cost\n",
    "- opt[0] will be the best number of agents\n",
    "- Show total cost for each staffing level\n",
    "- Highlights the cheapest option"
   ]
  },
  {
   "cell_type": "markdown",
   "id": "628d225c",
   "metadata": {},
   "source": [
    "Summary:\n",
    "- We are testing five different team sizes and asking:\n",
    "- Which one gives us the lowest total cost, including salaries and customer frustration?\n",
    "\n",
    "Hiring 4 agents gives best balance."
   ]
  },
  {
   "cell_type": "markdown",
   "id": "0dfe5c21",
   "metadata": {},
   "source": [
    "Key Learning:\n",
    "- How to quantify trade-offs in operations\n",
    "- How to simulate finincial impact of staffing decisions\n",
    "- How to optimize total bussiness cost, not just one metric\n",
    "This is key for careers in:\n",
    "- Operations management\n",
    "- Customer experience\n",
    "- Revenue optimization\n",
    "- Call center/ service planning"
   ]
  },
  {
   "cell_type": "markdown",
   "id": "275d609a",
   "metadata": {},
   "source": [
    "### 10. Multi-Day Cariability & Sensitivity Analysis\n",
    "What: Run the full simulation over 30 days, record daily metrics and plot their distribution.\n",
    "\n",
    "Why: Highlights day-to-day variability and worst-case scenarios.\n",
    "\n",
    "This code adds a final and very realistic analysis step--it helps answer.\n",
    "\n",
    "Even if we pick the optimal number of agents, how much can daily perfomance vary from one day to another?"
   ]
  },
  {
   "cell_type": "markdown",
   "id": "16b77754",
   "metadata": {},
   "source": [
    "Simulate your call center 30 times using the optimal number of agents from previous cost-optimization step, and check:\n",
    "- What is the average wait time each day?\n",
    "- What is the 95th percentile wait time each day?\n",
    "- How much dose this performance change from day to day?"
   ]
  },
  {
   "cell_type": "code",
   "execution_count": 50,
   "id": "9fe2e778",
   "metadata": {},
   "outputs": [
    {
     "data": {
      "image/png": "[encoded data removed]",
      "text/plain": [
       "<Figure size 640x480 with 2 Axes>"
      ]
     },
     "metadata": {},
     "output_type": "display_data"
    }
   ],
   "source": [
    "day = 30  # Number of days to simulate\n",
    "daily = []\n",
    "for _ in range(day):\n",
    "    w,_ = simulate_with_abandon(opt[0])\n",
    "    daily.append((w.mean()*60,np.percentile(w*60,95)))\n",
    "df_day = pd.DataFrame(daily,columns=['Average Wait','P95_Wait'])\n",
    "df_day.describe()\n",
    "df_day.hist(bins=10)\n",
    "#plt.title(\"30 day changes in wait times\")\n",
    "plt.show()"
   ]
  },
  {
   "cell_type": "markdown",
   "id": "ae7ca62d",
   "metadata": {},
   "source": [
    "#### Code Breakdown\n",
    "You simulate operatins for 30 seprate days\n",
    "- Use the optimal number of agents(opt[0])\n",
    "- Each day:\n",
    "    - Simulate customer waits\n",
    "    - Record:\n",
    "        - Mean wait time for the day (w.mean()*60 = in min)\n",
    "        - 95th percentile wait time (how long the longest waiting 5% waited)\n",
    "\n",
    "Each day's results are saved to daily:\n",
    "- Creates a nice table (w columns: average and 95th percentile waits)\n",
    "- Shows summary stats\n",
    "- Draw histograms for:\n",
    "    - Daily average wait times\n",
    "    - Daily 95th percetile wait times\n",
    "- Helps visualize how performance fluctutatesfrom day to day"
   ]
  },
  {
   "cell_type": "markdown",
   "id": "fdac65a3",
   "metadata": {},
   "source": [
    "What you'll see:\n",
    "- some days might have a low average wait\n",
    "- Other days could spike \n",
    "- You might find that 95th percentile wait is over 10 min on busy days"
   ]
  },
  {
   "cell_type": "markdown",
   "id": "c65568bf",
   "metadata": {},
   "source": [
    "Summary:\n",
    "\n",
    "Even if you pick the best number of agents on average, performance can still vary from day to day due to randomness. This step helps you to understand your operational risk and whether you are hitting you target consistently."
   ]
  },
  {
   "cell_type": "markdown",
   "id": "46e56785",
   "metadata": {},
   "source": [
    "Key Learning:\n",
    "- How to measure variability and reliabililty, not just averages\n",
    "- Why bussinesses look at worst case scenario, not just typical days\n",
    "- How to use simulations_statistics_visualization to make decision"
   ]
  },
  {
   "cell_type": "markdown",
   "id": "02aa2222",
   "metadata": {},
   "source": [
    "Real World Value:\n",
    "\n",
    "This step mirrors what service managers do when preparing for:\n",
    "- Staffing buffers\n",
    "- Peak day risk\n",
    "- Performance gurantees (SLAs)\n",
    "It builds critical thinking beyond \"just optimize for the average.'"
   ]
  }
 ],
 "metadata": {
  "kernelspec": {
   "display_name": "base",
   "language": "python",
   "name": "python3"
  },
  "language_info": {
   "codemirror_mode": {
    "name": "ipython",
    "version": 3
   },
   "file_extension": ".py",
   "mimetype": "text/x-python",
   "name": "python",
   "nbconvert_exporter": "python",
   "pygments_lexer": "ipython3",
   "version": "3.11.11"
  }
 },
 "nbformat": 4,
 "nbformat_minor": 5
}
